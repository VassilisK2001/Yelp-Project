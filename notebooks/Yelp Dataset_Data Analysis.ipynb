{
 "cells": [
  {
   "cell_type": "markdown",
   "id": "6e6c7cf0",
   "metadata": {},
   "source": [
    "# Client: Coffee King\n",
    "# Dataset: Yelp Dataset\n",
    "\n",
    "## Questions\n",
    "1. Where are most coffee businesses located and which locations could be most promising for our coffee business?\n",
    "2. What are the operating hours of businesses related to our client?\n",
    "3. Which factors are important to customers based on reviews?\n",
    "4. What differentiates lower rated from higher rated coffee businesses?\n",
    "5. Which services are the most important to provide to customers?\n",
    "6. Are reviews mostly positive or negative?\n",
    "\n",
    "\n",
    "## Hypothesis\n",
    "1. The more reviews a business has, the more stars it will have\n",
    "\n",
    "\n",
    "## Approach\n",
    "1. Design a map and explore business properties based on their location.\n",
    "2. Explore the distribution of businesses' operating hours. \n",
    "3. Explore correlation between number of reviews and overall business star rating\n",
    "4. Find business attributes that  are most common across businesses and thus most important.\n",
    "5. Explore words that are frequently discussed in reviews.\n",
    "6. Apply topic modelling algorithm to extract useful topics from reviews.\n",
    "7. Apply sentiment analysis on reviews.\n"
   ]
  },
  {
   "cell_type": "code",
   "execution_count": 4,
   "id": "68d092ac",
   "metadata": {},
   "outputs": [
    {
     "data": {
      "text/plain": [
       "True"
      ]
     },
     "execution_count": 4,
     "metadata": {},
     "output_type": "execute_result"
    }
   ],
   "source": [
    "#Import python libraries\n",
    "import pandas as pd\n",
    "import numpy as np\n",
    "import matplotlib.pyplot as plt\n",
    "import seaborn as sns\n",
    "import plotly.express as px\n",
    "import folium\n",
    "import requests\n",
    "import os\n",
    "from dotenv import load_dotenv\n",
    "from nltk.tokenize import word_tokenize\n",
    "from nltk.corpus import stopwords\n",
    "from itertools import combinations\n",
    "from folium.plugins import HeatMap\n",
    "from geopy.distance import geodesic\n",
    "from wordcloud import WordCloud\n",
    "from textblob import TextBlob\n",
    "from pandasql import sqldf\n",
    "\n",
    "# Define a reusable function for running SQL queries\n",
    "pysqldf = lambda q: sqldf(q, globals())\n",
    "\n",
    "load_dotenv()"
   ]
  },
  {
   "cell_type": "markdown",
   "id": "59198d03-6f40-4e74-909e-3b6d85921099",
   "metadata": {},
   "source": [
    "### Define functions to import and export data"
   ]
  },
  {
   "cell_type": "code",
   "execution_count": 5,
   "id": "612d45c5-eee4-4412-8c16-8edcdda40a2d",
   "metadata": {},
   "outputs": [],
   "source": [
    "# Function to get csv file from AWS s3 bucket\n",
    "def get_s3_csv(file_key):\n",
    "    \n",
    "    # Fetch credentials to access AWS s3 bucket\n",
    "    AWS_S3_BUCKET = os.getenv('AWS_S3_BUCKET')\n",
    "    AWS_ACCESS_KEY_ID = os.getenv('AWS_ACCESS_KEY_ID')\n",
    "    AWS_SECRET_ACCESS_KEY = os.getenv('AWS_SECRET_ACCESS_KEY')\n",
    "\n",
    "    # Construct the full S3 path\n",
    "    s3_path = f's3://{AWS_S3_BUCKET}/{file_key}'\n",
    "\n",
    "    # Read the csv file from S3 directly into a pandas DataFrame\n",
    "    df = pd.read_csv(s3_path,  storage_options= {\n",
    "        \"key\": AWS_ACCESS_KEY_ID,\n",
    "        \"secret\": AWS_SECRET_ACCESS_KEY\n",
    "         })\n",
    "\n",
    "    return df\n",
    "\n",
    "# Function to convert pandas dataframe to csv and write the file to S3\n",
    "def export_csv_to_S3(df, file_key):\n",
    "\n",
    "    # Fetch credentials to access AWS s3 bucket\n",
    "    AWS_S3_BUCKET = os.environ.get('AWS_S3_BUCKET')\n",
    "    AWS_ACCESS_KEY_ID = os.environ.get('AWS_ACCESS_KEY_ID')\n",
    "    AWS_SECRET_ACCESS_KEY = os.environ.get('AWS_SECRET_ACCESS_KEY')\n",
    "\n",
    "     # Construct the full S3 path\n",
    "    s3_path = f's3://{AWS_S3_BUCKET}/{file_key}'\n",
    "\n",
    "    df.to_csv(s3_path, index=False, storage_options={\n",
    "        \"key\": AWS_ACCESS_KEY_ID,\n",
    "        \"secret\": AWS_SECRET_ACCESS_KEY\n",
    "    })"
   ]
  },
  {
   "cell_type": "markdown",
   "id": "2275b609-89a6-40c4-a4ea-d5d1c85d5e23",
   "metadata": {},
   "source": [
    "#### Load cleaned business dataset "
   ]
  },
  {
   "cell_type": "code",
   "execution_count": 6,
   "id": "e1233022",
   "metadata": {},
   "outputs": [
    {
     "data": {
      "text/html": [
       "<div>\n",
       "<style scoped>\n",
       "    .dataframe tbody tr th:only-of-type {\n",
       "        vertical-align: middle;\n",
       "    }\n",
       "\n",
       "    .dataframe tbody tr th {\n",
       "        vertical-align: top;\n",
       "    }\n",
       "\n",
       "    .dataframe thead th {\n",
       "        text-align: right;\n",
       "    }\n",
       "</style>\n",
       "<table border=\"1\" class=\"dataframe\">\n",
       "  <thead>\n",
       "    <tr style=\"text-align: right;\">\n",
       "      <th></th>\n",
       "      <th>business_id</th>\n",
       "      <th>name</th>\n",
       "      <th>city</th>\n",
       "      <th>state</th>\n",
       "      <th>latitude</th>\n",
       "      <th>longitude</th>\n",
       "      <th>stars</th>\n",
       "      <th>review_count</th>\n",
       "      <th>categories</th>\n",
       "      <th>attribute</th>\n",
       "    </tr>\n",
       "  </thead>\n",
       "  <tbody>\n",
       "    <tr>\n",
       "      <th>0</th>\n",
       "      <td>MTSW4McQd7CbVtyjqoe9mw</td>\n",
       "      <td>St Honore Pastries</td>\n",
       "      <td>Philadelphia</td>\n",
       "      <td>PA</td>\n",
       "      <td>39.955505</td>\n",
       "      <td>-75.155564</td>\n",
       "      <td>4.0</td>\n",
       "      <td>80</td>\n",
       "      <td>Coffee &amp; Tea</td>\n",
       "      <td>BusinessParking</td>\n",
       "    </tr>\n",
       "    <tr>\n",
       "      <th>1</th>\n",
       "      <td>MTSW4McQd7CbVtyjqoe9mw</td>\n",
       "      <td>St Honore Pastries</td>\n",
       "      <td>Philadelphia</td>\n",
       "      <td>PA</td>\n",
       "      <td>39.955505</td>\n",
       "      <td>-75.155564</td>\n",
       "      <td>4.0</td>\n",
       "      <td>80</td>\n",
       "      <td>Coffee &amp; Tea</td>\n",
       "      <td>RestaurantsTakeOut</td>\n",
       "    </tr>\n",
       "    <tr>\n",
       "      <th>2</th>\n",
       "      <td>MTSW4McQd7CbVtyjqoe9mw</td>\n",
       "      <td>St Honore Pastries</td>\n",
       "      <td>Philadelphia</td>\n",
       "      <td>PA</td>\n",
       "      <td>39.955505</td>\n",
       "      <td>-75.155564</td>\n",
       "      <td>4.0</td>\n",
       "      <td>80</td>\n",
       "      <td>Coffee &amp; Tea</td>\n",
       "      <td>BikeParking</td>\n",
       "    </tr>\n",
       "    <tr>\n",
       "      <th>3</th>\n",
       "      <td>MTSW4McQd7CbVtyjqoe9mw</td>\n",
       "      <td>St Honore Pastries</td>\n",
       "      <td>Philadelphia</td>\n",
       "      <td>PA</td>\n",
       "      <td>39.955505</td>\n",
       "      <td>-75.155564</td>\n",
       "      <td>4.0</td>\n",
       "      <td>80</td>\n",
       "      <td>Coffee &amp; Tea</td>\n",
       "      <td>BusinessAcceptsCreditCards</td>\n",
       "    </tr>\n",
       "    <tr>\n",
       "      <th>4</th>\n",
       "      <td>MTSW4McQd7CbVtyjqoe9mw</td>\n",
       "      <td>St Honore Pastries</td>\n",
       "      <td>Philadelphia</td>\n",
       "      <td>PA</td>\n",
       "      <td>39.955505</td>\n",
       "      <td>-75.155564</td>\n",
       "      <td>4.0</td>\n",
       "      <td>80</td>\n",
       "      <td>Coffee &amp; Tea</td>\n",
       "      <td>OutdoorSeating</td>\n",
       "    </tr>\n",
       "  </tbody>\n",
       "</table>\n",
       "</div>"
      ],
      "text/plain": [
       "              business_id                name          city state   latitude  \\\n",
       "0  MTSW4McQd7CbVtyjqoe9mw  St Honore Pastries  Philadelphia    PA  39.955505   \n",
       "1  MTSW4McQd7CbVtyjqoe9mw  St Honore Pastries  Philadelphia    PA  39.955505   \n",
       "2  MTSW4McQd7CbVtyjqoe9mw  St Honore Pastries  Philadelphia    PA  39.955505   \n",
       "3  MTSW4McQd7CbVtyjqoe9mw  St Honore Pastries  Philadelphia    PA  39.955505   \n",
       "4  MTSW4McQd7CbVtyjqoe9mw  St Honore Pastries  Philadelphia    PA  39.955505   \n",
       "\n",
       "   longitude  stars  review_count    categories                   attribute  \n",
       "0 -75.155564    4.0            80  Coffee & Tea             BusinessParking  \n",
       "1 -75.155564    4.0            80  Coffee & Tea          RestaurantsTakeOut  \n",
       "2 -75.155564    4.0            80  Coffee & Tea                 BikeParking  \n",
       "3 -75.155564    4.0            80  Coffee & Tea  BusinessAcceptsCreditCards  \n",
       "4 -75.155564    4.0            80  Coffee & Tea              OutdoorSeating  "
      ]
     },
     "execution_count": 6,
     "metadata": {},
     "output_type": "execute_result"
    }
   ],
   "source": [
    "business_path =  'YelpData/businesses.csv'\n",
    "\n",
    "df_business = get_s3_csv(business_path)\n",
    "df_business.head()"
   ]
  },
  {
   "cell_type": "markdown",
   "id": "98dfd5c1-6594-4394-84c5-6af809c2e134",
   "metadata": {},
   "source": [
    "#### Load cleaned reviews dataset"
   ]
  },
  {
   "cell_type": "code",
   "execution_count": null,
   "id": "a9318e80",
   "metadata": {},
   "outputs": [],
   "source": [
    "reviews_path = 'YelpData/reviews.csv'\n",
    "\n",
    "df_reviews = get_s3_csv(reviews_path)\n",
    "df_reviews.head()"
   ]
  },
  {
   "cell_type": "markdown",
   "id": "48488b39",
   "metadata": {},
   "source": [
    "### Let's explore the correlation between star rating and number of reviews"
   ]
  },
  {
   "attachments": {
    "Correlation_YelpDataset.png": {
     "image/png": "[encoded data removed]"
    }
   },
   "cell_type": "markdown",
   "id": "645af643",
   "metadata": {},
   "source": [
    "![Correlation_YelpDataset.png](attachment:Correlation_YelpDataset.png)"
   ]
  },
  {
   "cell_type": "markdown",
   "id": "2190b91a",
   "metadata": {},
   "source": [
    "#### It seems that for businesses up to 4 stars the more stars a business has, the more reviews it has. We will check if there is a correlation between the two variables using the Spearman Rank Correlation."
   ]
  },
  {
   "cell_type": "markdown",
   "id": "f6349bc8",
   "metadata": {},
   "source": [
    "1. Spearman Rank Correlation: 0.09261447073354838\n",
    "2. P-Value: 1.357600026229779e-110\n",
    "\n",
    "#### Conclusions\n",
    "1. The p-value is less than 0.05 which means that correlation is statistically significant\n",
    "2. The Spearman Rank Correlation is very close to 0 but larger that 0, which indicates a positive monotonic but vey weak ralationship between the stars and number of reviews a business has. "
   ]
  },
  {
   "attachments": {
    "Hours_of_Operation.png": {
     "image/png": "[encoded data removed]"
    }
   },
   "cell_type": "markdown",
   "id": "8a51795c",
   "metadata": {},
   "source": [
    "### Now let's explore average opening and closing hours for weekdays and weekend considering four business categories that are closer to our coffee company.\n",
    "\n",
    "![Hours_of_Operation.png](attachment:Hours_of_Operation.png)"
   ]
  },
  {
   "cell_type": "markdown",
   "id": "9c23f547",
   "metadata": {},
   "source": [
    "#### We can see that businesses start operating later at the weekend so they close later. "
   ]
  },
  {
   "cell_type": "code",
   "execution_count": null,
   "id": "b3cf3ea3",
   "metadata": {},
   "outputs": [],
   "source": [
    "q = \"\"\"\n",
    "SELECT business_id, name ,city, state, latitude, longitude, stars, categories\n",
    "FROM df_business\n",
    "WHERE categories = \"Coffee & Tea\"\n",
    "GROUP BY business_id, categories\n",
    "\"\"\"\n",
    "df_business_unique = pysqldf(q)\n",
    "df_business_unique.head()"
   ]
  },
  {
   "cell_type": "code",
   "execution_count": null,
   "id": "9972ac09",
   "metadata": {},
   "outputs": [],
   "source": [
    "df_business_unique.shape[0]"
   ]
  },
  {
   "cell_type": "markdown",
   "id": "c0b0c8db",
   "metadata": {},
   "source": [
    "### We have 4954 coffee businesses in total."
   ]
  },
  {
   "cell_type": "code",
   "execution_count": null,
   "id": "55ec6ee7",
   "metadata": {},
   "outputs": [],
   "source": [
    "# Define bin edges and labels\n",
    "bin_edges = [1,2,3,4,5, float('inf')]\n",
    "bin_labels = ['1-2', '2-3', '3-4', '4-5', '5']"
   ]
  },
  {
   "cell_type": "code",
   "execution_count": null,
   "id": "a4436ff2",
   "metadata": {},
   "outputs": [],
   "source": [
    "# Create the 'star_interval' column using pd.cut\n",
    "df_business_unique['star_group'] = pd.cut(df_business_unique['stars'], bins=bin_edges, labels=bin_labels, \n",
    "                                         include_lowest=True, right=False)"
   ]
  },
  {
   "cell_type": "code",
   "execution_count": null,
   "id": "076765de",
   "metadata": {},
   "outputs": [],
   "source": [
    "q = \"\"\"\n",
    "SELECT business_id, ROUND(AVG(review_stars),1) AS average_review_stars\n",
    "FROM df_reviews\n",
    "GROUP BY business_id\n",
    "\"\"\"\n",
    "df_avg_review_stars = pysqldf(q)\n",
    "df_avg_review_stars.head()"
   ]
  },
  {
   "cell_type": "code",
   "execution_count": null,
   "id": "e79f34e9",
   "metadata": {},
   "outputs": [],
   "source": [
    "q = \"\"\"\n",
    "SELECT star_group, ROUND(AVG(average_review_stars),1) as avg_review_star_group\n",
    "FROM (\n",
    "    SELECT b.star_group, r.average_review_stars\n",
    "    FROM df_business_unique AS b\n",
    "    INNER JOIN df_avg_review_stars AS r\n",
    "    ON b.business_id = r.business_id\n",
    ")\n",
    "GROUP BY star_group\n",
    "\"\"\"\n",
    "agg_df = pysqldf(q)"
   ]
  },
  {
   "cell_type": "code",
   "execution_count": null,
   "id": "577487f0",
   "metadata": {},
   "outputs": [],
   "source": [
    "sns.barplot(data=agg_df, x=agg_df['star_group'], y=agg_df['avg_review_star_group'])\n",
    "plt.title(\"Average review star rating per business star group\")\n",
    "plt.xlabel(\"Star group\")\n",
    "plt.ylabel(\"Average review stars\")\n",
    "plt.show()"
   ]
  },
  {
   "cell_type": "markdown",
   "id": "c89ad7da",
   "metadata": {},
   "source": [
    "### As wee can see, business star ratings are in align with reviews star rating"
   ]
  },
  {
   "cell_type": "code",
   "execution_count": null,
   "id": "f60d9e8b",
   "metadata": {},
   "outputs": [],
   "source": [
    "q = \"\"\"\n",
    "SELECT state, COUNT(DISTINCT(business_id)) AS total_businesses\n",
    "FROM df_business_unique\n",
    "WHERE categories = \"Coffee & Tea\"\n",
    "GROUP BY state\n",
    "ORDER BY total_businesses DESC\n",
    "\"\"\"\n",
    "df_business_states = pysqldf(q)"
   ]
  },
  {
   "cell_type": "code",
   "execution_count": null,
   "id": "8793ecbc",
   "metadata": {},
   "outputs": [],
   "source": [
    "sns.barplot(data=df_business_states, x=df_business_states['state'], y=df_business_states['total_businesses'])\n",
    "plt.title(\"Total coffee companies per state\")\n",
    "plt.xlabel(\"State\")\n",
    "plt.ylabel(\"Total Cofee Businesses\")\n",
    "plt.show()"
   ]
  },
  {
   "cell_type": "markdown",
   "id": "ec5a686f",
   "metadata": {},
   "source": [
    "### Most coffee businesses are located in the states Pennsylvania and Florida. "
   ]
  },
  {
   "cell_type": "code",
   "execution_count": null,
   "id": "5e826e17",
   "metadata": {},
   "outputs": [],
   "source": [
    "df_business_unique['stars'].plot.hist()\n",
    "plt.title('Distribution of business star rating')\n",
    "plt.xlabel('Star rating')\n",
    "plt.show()"
   ]
  },
  {
   "cell_type": "markdown",
   "id": "53f4f066",
   "metadata": {},
   "source": [
    "### Most businesses have 4.0 to 4.5 star rating"
   ]
  },
  {
   "cell_type": "markdown",
   "id": "d5a4c764",
   "metadata": {},
   "source": [
    "### We will calulate the weighted star rating per state and design a choropleth map that effectively shows the results."
   ]
  },
  {
   "cell_type": "code",
   "execution_count": null,
   "id": "27a13e38",
   "metadata": {},
   "outputs": [],
   "source": [
    "\n",
    "# Function to calculate weighted average\n",
    "def weighted_average(group):\n",
    "    # Count the number of businesses for each star rating in the group (per state)\n",
    "    star_counts = group['stars'].value_counts()\n",
    "    \n",
    "    # Calculate the weighted sum of stars\n",
    "    weighted_sum = np.sum(star_counts.index * star_counts.values)\n",
    "    \n",
    "    # Calculate the total number of businesses in that state\n",
    "    total_businesses = star_counts.sum()\n",
    "    \n",
    "    # Calculate the weighted average\n",
    "    weighted_avg = weighted_sum / total_businesses\n",
    "    \n",
    "    return weighted_avg.round(1)\n",
    "\n",
    "state_ratings = df_business_unique.groupby('state').apply(weighted_average).reset_index(name='weighted_avg_stars')\n",
    "\n",
    "center_lat = df_business_unique['latitude'].mean()\n",
    "center_lon = df_business_unique['longitude'].mean()\n",
    "\n",
    "m = folium.Map(location=[center_lat, center_lon], zoom_start = 4)\n",
    "\n",
    "state_data = requests.get(\"https://raw.githubusercontent.com/python-visualization/folium-example-data/main/us_states.json\").json()\n",
    "\n",
    "folium.Choropleth(\n",
    "    geo_data = state_data,\n",
    "    name=\"choropleth\",\n",
    "    data=state_ratings,\n",
    "    columns=['state','weighted_avg_stars'],\n",
    "    key_on='feature.id',\n",
    "    fill_color='YlOrRd',\n",
    "    fill_opacity=0.7,\n",
    "    line_opacity=0.2,\n",
    "    legend_name='Weighted Average Star Rating'\n",
    "    \n",
    "    ).add_to(m)\n",
    "\n",
    "folium.GeoJson(\n",
    "    state_data,\n",
    "    name='geojson',\n",
    "    style_function=lambda feature: {\n",
    "        'fillColor': 'transparent',\n",
    "        'color': 'black',\n",
    "        'weight': 1,\n",
    "        'dashArray': '5, 5',\n",
    "    },\n",
    "    highlight_function=lambda x: {'weight': 3, 'color': 'black'},\n",
    "    tooltip=folium.features.GeoJsonTooltip(\n",
    "        fields=['name'],\n",
    "        aliases=['State:'],\n",
    "        localize=True\n",
    "    )\n",
    ").add_to(m)\n",
    "\n",
    "\n",
    "m"
   ]
  },
  {
   "cell_type": "markdown",
   "id": "a5933240",
   "metadata": {},
   "source": [
    "### Conclusion: It seems that coffee businesses in the following states have higher star ratings:\n",
    "1. California\n",
    "2. Idaho\n",
    "3. Louisiana"
   ]
  },
  {
   "cell_type": "code",
   "execution_count": null,
   "id": "abb333f3",
   "metadata": {},
   "outputs": [],
   "source": [
    "# Create tuple coordinates with latitude and longitude for each business\n",
    "df_business_unique['coordinates'] = list(zip(df_business_unique['latitude'], df_business_unique['longitude']))\n",
    "\n",
    "# Calculate distances in km between all pairs of businesses per state\n",
    "distances = df_business_unique.groupby('state')['coordinates'].apply(\n",
    "    lambda x: [geodesic(a,b).kilometers for a,b in combinations(x,2)]).reset_index()\n",
    "\n",
    "distances = distances.rename(columns={'coordinates':'distances'})"
   ]
  },
  {
   "cell_type": "code",
   "execution_count": null,
   "id": "3cb00a57",
   "metadata": {},
   "outputs": [],
   "source": [
    "# Calculate average distance between businesses per state\n",
    "distances['avg_distance'] = distances['distances'].apply(lambda x: sum(x)/len(x)).round(2)\n",
    "distances.drop(columns=['distances'], axis=1, inplace=True)"
   ]
  },
  {
   "cell_type": "code",
   "execution_count": null,
   "id": "17173026",
   "metadata": {},
   "outputs": [],
   "source": [
    "df_business_unique.drop(columns=['coordinates'], axis=1, inplace=True)"
   ]
  },
  {
   "cell_type": "code",
   "execution_count": null,
   "id": "1a180f77",
   "metadata": {},
   "outputs": [],
   "source": [
    "m = folium.Map(location=[center_lat, center_lon], zoom_start=4)\n",
    "\n",
    "folium.Choropleth(\n",
    "    geo_data = state_data,\n",
    "    name=\"choropleth\",\n",
    "    data=distances,\n",
    "    columns=['state','avg_distance'],\n",
    "    key_on='feature.id',\n",
    "    fill_color='YlOrRd',\n",
    "    fill_opacity=0.7,\n",
    "    line_opacity=0.2,\n",
    "    legend_name='Average distance between businesses'\n",
    "    \n",
    "    ).add_to(m)\n",
    "\n",
    "folium.GeoJson(\n",
    "    state_data,\n",
    "    name='geojson',\n",
    "    style_function=lambda feature: {\n",
    "        'fillColor': 'transparent',\n",
    "        'color': 'black',\n",
    "        'weight': 1,\n",
    "        'dashArray': '5, 5',\n",
    "    },\n",
    "    highlight_function=lambda x: {'weight': 3, 'color': 'black'},\n",
    "    tooltip=folium.features.GeoJsonTooltip(\n",
    "        fields=['name'],\n",
    "        aliases=['State:'],\n",
    "        localize=True\n",
    "    )\n",
    ").add_to(m)\n",
    "\n",
    "m"
   ]
  },
  {
   "cell_type": "markdown",
   "id": "63222205",
   "metadata": {},
   "source": [
    "#### Conclusion: From the map we can see that coffee businesses that are located in one of the  following states are closer to one another, which creates higher competition:\n",
    "1. Idaho\n",
    "2. Nevada\n",
    "3. California\n",
    "4. Mississippi\n",
    "\n",
    "#### On the other hand, coffee businesses that are located in one of the following states are at least 22 km apart on average, which allows each company to increase its revenue more easily due to lower competition.\n",
    "1. Illinois\n",
    "2. Pennsylvania\n",
    "3. Florida\n",
    "\n",
    "#### After some research, it seems that in terms of sheer variety and quantity of tourist attractions, Florida is often considered a top tourist destination due to its theme parks, beaches, and diverse cultural offerings. Therefore, we will further explore the coffee business located in the state of Florida, since from the analysis it is probably one of the most promising states for our coffee business to open."
   ]
  },
  {
   "cell_type": "code",
   "execution_count": null,
   "id": "576d9dc7",
   "metadata": {},
   "outputs": [],
   "source": [
    "q = \"\"\"\n",
    "SELECT \n",
    "    city,\n",
    "    CASE\n",
    "        WHEN SUM(COUNT(*)) OVER() = 0 THEN 0\n",
    "        ELSE ROUND(COUNT(*) * 100.0/SUM(COUNT(*)) OVER(),2)\n",
    "    END AS percent_of_businesses\n",
    "    \n",
    "FROM df_business_unique\n",
    "WHERE state = \"FL\"\n",
    "GROUP BY city\n",
    "ORDER BY percent_of_businesses  DESC\n",
    "LIMIT 10\n",
    "\"\"\"\n",
    "df_FL_cities = pysqldf(q)"
   ]
  },
  {
   "cell_type": "code",
   "execution_count": null,
   "id": "7889e0a8",
   "metadata": {},
   "outputs": [],
   "source": [
    "plt.figure(figsize=(14,8))\n",
    "plt.bar(df_FL_cities['city'] , df_FL_cities['percent_of_businesses'])\n",
    "plt.title(\"Top 10 cities in Florida\")\n",
    "plt.xlabel(\"City\")\n",
    "plt.ylabel(\"Percentage of  Cofee Businesses\")\n",
    "plt.show()"
   ]
  },
  {
   "cell_type": "markdown",
   "id": "ffbb17dc",
   "metadata": {},
   "source": [
    "#### It seems that 30% of the businesses in Florida are located in the city of Tampa and other coffee businesses are located across the other cities. Furthermore, top 3 cities with the highest number of businesses are all part of the greater Tampa Bay. Let's explore the business locations in the city of Tampa even further.\n",
    "\n",
    "#### We will select some key areas where a coffee business could open and explore the businesses that are located in those areas."
   ]
  },
  {
   "cell_type": "code",
   "execution_count": null,
   "id": "6b2f2312",
   "metadata": {},
   "outputs": [],
   "source": [
    "df_Tampa = df_business_unique[df_business_unique['city'] == \"Tampa\"].reset_index()\n",
    "df_Tampa.drop(columns=['index','city','state','categories'], axis=1, inplace=True)"
   ]
  },
  {
   "cell_type": "code",
   "execution_count": null,
   "id": "0ce0a9dd",
   "metadata": {},
   "outputs": [],
   "source": [
    "#Create folium map centered around Tampa\n",
    "tampa_map = folium.Map(location=[27.9517, -82.4588], zoom_start=13)\n",
    "\n",
    "#Function to assign color based on star rating\n",
    "def get_marker_color(stars):\n",
    "    return 'red' if stars >= 4 else 'blue'\n",
    "\n",
    "#Function to check if a point is within circle\n",
    "def is_point_in_circle(point, center, radius):\n",
    "    distance = geodesic(point, center).meters\n",
    "    return distance <= radius\n",
    "\n",
    "#Check if a point is within any circle\n",
    "def is_point_in_any_circle(point, circles):\n",
    "    for params in circles.values():\n",
    "        if is_point_in_circle(point, params['coords'], params['radius']):\n",
    "            return True\n",
    "    return False\n",
    "    \n",
    "\n",
    "#Key locations in Tampa\n",
    "locations = {\n",
    "    'Downtown tampa':{'coords':[27.94949724916548, -82.45631286588983], 'radius':1000},\n",
    "    'University of South Florida(USF)':{'coords':[28.058920835949298, -82.41389681863677], 'radius': 1000},\n",
    "    'Ybor City':{'coords':[27.9650212, -82.4350941], 'radius': 1000},\n",
    "    'Tampa Riverwalk': {'coords':[27.94484775523052, -82.45875361679079], 'radius': 1000},\n",
    "    'Hyde Park Village':{'coords':[27.937283506095774, -82.47584933531247], 'radius': 1000},\n",
    "    'Tampa International Airport':{'coords':[27.977163876326877, -82.53009800144729], 'radius': 1000},\n",
    "    'Channelside Bay Plaza':{'coords':[27.94304830437474, -82.44733906096896], 'radius': 1000},\n",
    "    'University of Tampa':{'coords':[27.946090976991364, -82.46589073619269], 'radius': 1000},\n",
    "    'WestShore Plaza': {'coords':[27.94755868357797, -82.52738450144814], 'radius': 1000},\n",
    "    'Kennedy Boulevard': {'coords':[27.94503432669266, -82.49020493716037], 'radius': 1000}    \n",
    "}\n",
    "\n",
    "#Add markers for businesses inside circles\n",
    "for index, row in df_Tampa.iterrows():\n",
    "    for location, params in locations.items():\n",
    "        if is_point_in_any_circle([row['latitude'], row['longitude']], locations):\n",
    "            folium.Marker(\n",
    "                location=[row['latitude'], row['longitude']],\n",
    "                popup=f\"<b>{row['name']} </b>({row['stars']})\",\n",
    "                icon = folium.Icon(get_marker_color(row['stars']))            \n",
    "            ).add_to(tampa_map)\n",
    "            \n",
    "\n",
    "            \n",
    "#Add circles for each key location\n",
    "for location,params in locations.items():\n",
    "    folium.Circle(\n",
    "        location = params['coords'],\n",
    "        radius = params['radius'],\n",
    "        color= 'blue',\n",
    "        fill=True,\n",
    "        fill_color='blue',\n",
    "        fill_opacity=0.2,\n",
    "        popup=location   \n",
    "    ).add_to(tampa_map)"
   ]
  },
  {
   "cell_type": "markdown",
   "id": "a40cbeef",
   "metadata": {},
   "source": [
    "### We will explore coffee businesses that are within 1 km from each key location"
   ]
  },
  {
   "cell_type": "code",
   "execution_count": null,
   "id": "94fc092b",
   "metadata": {},
   "outputs": [],
   "source": [
    "tampa_map"
   ]
  },
  {
   "cell_type": "markdown",
   "id": "8e8ba5ea",
   "metadata": {},
   "source": [
    "### Insights based on key locations:\n",
    "\n",
    "#### 1. Tampa International Airport: \n",
    "* Businesses are distibuted across the different airsides.\n",
    "* There is only one coffee business located in the main Terminal, Starbucks.\n",
    "* Most businesses are under 3 stars. \n",
    "\n",
    "#### 2. Westshore Plaza Mall:\n",
    "* There are only 2 businesses inside the mall, which have at least 4 star rating.\n",
    "* The rest of the business are located near the part of the West Kennedy Boulevard street that is close to the mall.\n",
    "\n",
    "#### 3. Hyde Park Village:\n",
    "* There is only one business in the center of the village and the rest of the businesses are located across avenues around the village.\n",
    "* All the businesses are at least 4 stars.\n",
    "\n",
    "#### 4. University of Tampa:\n",
    "* Coffee business are located near the university.\n",
    "* Most businesses are located near the West kennedy Boulevard which is 5 minutes from the UT. Those businesses are at leat 4 stars.\n",
    "* There are 3 parks near the UT(Agliano Park, Delo Park and Vaughn Center Countryard), where there are is only one coffee business in total, Starbucks. \n",
    "\n",
    "#### 5. Tampa Riverwalk:\n",
    "* Surprisingly, there are not many coffee businesses in the Tampa Riverwalk, which is a pathway along the Hillsborough River.\n",
    "* Some very promising locations across the riverwalk include:\n",
    "1. Curtis Hixon Waterfront Park, which is a popular gathering spot for events and recreation. There are no other businesses in the park.\n",
    "2. Tampa Convention Center, where there is a number of events and conferences taking place. There is only one business close to the center, Starbucks(yes Starbucks is everywhere).\n",
    "3. Straz Center for the Performing Arts: Coffee shops near cultural venues often appeal to patrons looking for a pre-show or intermission pick-me-up. There is only one coffee business there, which is 3.5 stars rated.\n",
    "\n",
    "\n",
    "#### 6. Downtown Tampa:\n",
    "* There are a lot of businesses based on Downtown Tampa. The majoroty of businesses are at least 4 star rated and are close to central streets.\n",
    "* Some promising locations in Downtown Tampa are the following:\n",
    "1. Amalie Arena:A Coffee shop near the arena can capture sports fans and concert attendees, especially on event days. There seems to be no businesses near the arena.\n",
    "2. Water Street: This is a large-scale and transformative real estate development project located in downtown Tampa. Key features include high-rise residential towers, corporate offices, entertainment and cultural spaces, retail and dining options, and waterfront access along the Hillsborough River. Specifically,a  good choice could be the area around JW Marriot Tampa Water Street, a luxurious hotel which is close to Riverwalk and the Amelie Arena. Based on the map, there are some restaurants but not any coffee businesses nearby.\n",
    "\n",
    "#### 7. Ybor   City:\n",
    "* The majority of coffee shops are located across the East 7th Avenue, which is Ybor City's main commercial thoroughfare. All the businesses are at least 4 star rated. There is very high competition in this area.\n",
    "* Some promising locations are the following:\n",
    "1. Centennial Park: This is a historical park that hosts cultural events, festivals, or community gatherings, especially due to its historical significance. There is only one coffee business nearby, which is 3 star rated.\n",
    "2. Centro Ybor: This is the Ybor City State Museum, also known as Centro Ybor and provides insights into the history and development of Ybor City. Specifically, there are some restaurants across the East 8th Avenue, which is a central road close to the museum but there are not any coffee shops.\n",
    "\n",
    "#### 8. University of South Florida(USF):\n",
    "* There are only two coffee businesses in the USF, which makes this location really promising.\n",
    "* Some good locations near the USF are the following:\n",
    "1. Near the Marshall Student Center (MSC): The MSC is a central hub for student activities and services. A potential coffee business nearby can attract students taking breaks between classes or studying in the center. There are a lot of restaurants and fast food businesses but no coffee shops.\n"
   ]
  },
  {
   "cell_type": "markdown",
   "id": "de04fb32",
   "metadata": {},
   "source": [
    "### Let's find the business attributes that at least half of  businesses have."
   ]
  },
  {
   "cell_type": "code",
   "execution_count": null,
   "id": "4aa6f597",
   "metadata": {},
   "outputs": [],
   "source": [
    "q = \"\"\"\n",
    "WITH BusinessCount AS (\n",
    "    SELECT COUNT(DISTINCT(business_id)) AS total_businesses\n",
    "    FROM df_business\n",
    "    WHERE categories = \"Coffee & Tea\" )\n",
    "SELECT attribute, ROUND(COUNT(DISTINCT(business_id)) * 100.0/BusinessCount.total_businesses,2) AS business_percentage\n",
    "FROM df_business,BusinessCount\n",
    "WHERE categories = \"Coffee & Tea\"\n",
    "GROUP BY attribute\n",
    "HAVING business_percentage >= 50.00\n",
    "ORDER BY business_percentage DESC\n",
    "\"\"\"\n",
    "df_attributes = pysqldf(q)"
   ]
  },
  {
   "cell_type": "code",
   "execution_count": null,
   "id": "58c5680e",
   "metadata": {},
   "outputs": [],
   "source": [
    "plt.figure(figsize=(10,6))\n",
    "plt.barh(df_attributes['attribute'], df_attributes['business_percentage'])\n",
    "plt.xlabel('Business Percentage(%)')\n",
    "plt.title('Top Coffee Business Attributes')\n",
    "plt.show()"
   ]
  },
  {
   "cell_type": "markdown",
   "id": "1baccfd4",
   "metadata": {},
   "source": [
    "### Insights:\n",
    "1. As wee can see, over 80% of coffee businesses offer a take-out service(RestaurantsTakeOut). Customers can place an order for food or coffee and then pick it up themselves at the coffee shop.\n",
    "2. Again over 80% of businesses offer parking services to their clients(Business Parking).\n",
    "3. An important observation is that the majority of businesses have a moderate price level or price level of 2, which means that the products are not too cheap but not too expensive either(RestaurantsPriceRange2).\n",
    "4. Nearly 80% of the businesses offer outdoor seating as well as delivery services at the location of the client.\n",
    "5. Another interesting insight is that over half of businesses offer catering services(Caters), which involve the preparation and delivery of food and beverages for events, parties, meetings, or other gatherings outside of the regular dining establishment.\n",
    "\n",
    "#### Therefore , it is important for our coffee business to offer the above services to their prospective costumers."
   ]
  },
  {
   "cell_type": "code",
   "execution_count": null,
   "id": "6d6feb64",
   "metadata": {},
   "outputs": [],
   "source": [
    "df_reviews['text'].duplicated().sum()"
   ]
  },
  {
   "cell_type": "markdown",
   "id": "39b67175",
   "metadata": {},
   "source": [
    "#### We have 3121 duplicated reviews. Let's delete those duplicates"
   ]
  },
  {
   "cell_type": "code",
   "execution_count": null,
   "id": "10f773c0",
   "metadata": {},
   "outputs": [],
   "source": [
    "df_reviews_text = df_reviews.drop_duplicates(subset='text')\n",
    "df_reviews_text.duplicated().sum()"
   ]
  },
  {
   "cell_type": "code",
   "execution_count": null,
   "id": "6896b17c",
   "metadata": {},
   "outputs": [],
   "source": [
    "q = \"\"\"\n",
    "SELECT text, review_stars\n",
    "FROM df_reviews_text AS r\n",
    "INNER JOIN df_business_unique AS b\n",
    "ON r.business_id = b.business_id\n",
    "\"\"\"\n",
    "df_reviews = pysqldf(q)\n",
    "df_reviews.shape[0]"
   ]
  },
  {
   "cell_type": "markdown",
   "id": "319add50",
   "metadata": {},
   "source": [
    "#### We have 348,596 reviews for coffee businesses."
   ]
  },
  {
   "cell_type": "markdown",
   "id": "107beab7",
   "metadata": {},
   "source": [
    "### We will generate a word cloud in order to get an idea of the topics that are most frequently discussed by reviewers."
   ]
  },
  {
   "cell_type": "code",
   "execution_count": null,
   "id": "e981b395",
   "metadata": {},
   "outputs": [],
   "source": [
    "# Combine all reviews into a single string\n",
    "all_reviews = ' '.join(df_reviews['text'].astype(str))\n",
    "\n",
    "# Tokenize the text into words\n",
    "words = word_tokenize(all_reviews)\n",
    "\n",
    "# Remove stopwords\n",
    "stop_words = set(stopwords.words('english'))\n",
    "words = [word.lower() for word in words if word.isalpha() and word.lower() not in stop_words]\n",
    "\n",
    "# Join the processed words into a string\n",
    "processed_text = ' '.join(words)\n",
    "\n",
    "# Generate WordCloud\n",
    "wordcloud = WordCloud(width=800, height=400, max_words = 100).generate(processed_text)\n",
    "\n",
    "# Display the WordCloud using Matplotlib\n",
    "plt.figure(figsize=(10, 10))\n",
    "plt.title(\"Customer Reviews Topics Overview\")\n",
    "plt.imshow(wordcloud, interpolation='bilinear')\n",
    "plt.axis('off')\n",
    "plt.show()"
   ]
  },
  {
   "cell_type": "markdown",
   "id": "cba7d0d7",
   "metadata": {},
   "source": [
    "### Observations:\n",
    "1. There are many phrases related to customer service, such as: customer service, staff friendly, service great, friendly staff. This indicates that customer service and the behavior of staff towards customers is considered an important factor by most reviewers.\n",
    "2. There are many words related to desserts, such as: dessert, ice cream, donut. This means that good quality desserts, especially ice cream is another important factor for customer satisfaction.\n",
    "3. From the frequent appearance of words in comments such as: good/great food/coffee/place, really good, awesome, great service and the lack of negative comments in the wordcloud we could assume that the majority of the reviews are positive. "
   ]
  },
  {
   "cell_type": "markdown",
   "id": "d8ec8029",
   "metadata": {},
   "source": [
    "#### We will use TextBlob to calulate sentiment polarity, which lies in [-1,1] , where 1 means positive sentiment and -1 means negative sentiment."
   ]
  },
  {
   "cell_type": "code",
   "execution_count": null,
   "id": "3bec97d5",
   "metadata": {},
   "outputs": [],
   "source": [
    "df_reviews['polarity'] = df_reviews['text'].map(lambda text: TextBlob(text).sentiment.polarity)"
   ]
  },
  {
   "cell_type": "code",
   "execution_count": null,
   "id": "82b373ed",
   "metadata": {},
   "outputs": [],
   "source": [
    "fig = px.histogram(df_reviews, x='polarity', title='Reviews Sentiment Polarity Distribution' ,nbins=50, color_discrete_sequence=['orange'])\n",
    "fig.update_traces(marker_line_color='black', marker_line_width=1.5)\n",
    "fig.show()"
   ]
  },
  {
   "cell_type": "markdown",
   "id": "f9ff2ce3",
   "metadata": {},
   "source": [
    "### The majority of sentiment polarity of scores are greater than zero , which means most of  reviews are pretty positive."
   ]
  },
  {
   "cell_type": "code",
   "execution_count": null,
   "id": "6afbda7a",
   "metadata": {},
   "outputs": [],
   "source": [
    "fig = px.histogram(df_reviews, x='review_stars', title='Review Rating Distribution', color_discrete_sequence=['orange'] )\n",
    "fig.update_traces(marker_line_color='black', marker_line_width=1.5)\n",
    "fig.show()"
   ]
  },
  {
   "cell_type": "markdown",
   "id": "de5d51a2",
   "metadata": {},
   "source": [
    "### The ratings are in align with the polarity score, that is, most of the ratings are pretty high at 4 or 5 ranges. "
   ]
  },
  {
   "cell_type": "markdown",
   "id": "0cebd9e5-573d-4242-b690-3967dc0240f4",
   "metadata": {},
   "source": [
    "#### Export cleaned reviews dataframe to csv and store it to AWS S3 to apply topic modelling later"
   ]
  },
  {
   "cell_type": "code",
   "execution_count": null,
   "id": "9de0cbf1",
   "metadata": {},
   "outputs": [],
   "source": [
    "#Define path to store cleaned csv file with reviews\n",
    "reviews_path = 'YelpData/reviews_topic_modelling.csv'\n",
    "\n",
    "# Call function to convert reviews dataframe to csv and store it to S3 bucket\n",
    "export_csv_to_S3(df_reviews, reviews_path)"
   ]
  }
 ],
 "metadata": {
  "kernelspec": {
   "display_name": "Python 3 (ipykernel)",
   "language": "python",
   "name": "python3"
  },
  "language_info": {
   "codemirror_mode": {
    "name": "ipython",
    "version": 3
   },
   "file_extension": ".py",
   "mimetype": "text/x-python",
   "name": "python",
   "nbconvert_exporter": "python",
   "pygments_lexer": "ipython3",
   "version": "3.11.2"
  }
 },
 "nbformat": 4,
 "nbformat_minor": 5
}
